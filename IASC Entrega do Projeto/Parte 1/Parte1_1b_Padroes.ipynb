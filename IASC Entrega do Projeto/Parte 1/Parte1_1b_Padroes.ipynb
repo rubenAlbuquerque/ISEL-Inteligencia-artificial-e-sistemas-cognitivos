{
 "cells": [
  {
   "cell_type": "markdown",
   "metadata": {},
   "source": [
    "# Parte 1 Problema 1 b\n"
   ]
  },
  {
   "cell_type": "code",
   "execution_count": 3,
   "metadata": {},
   "outputs": [
    {
     "name": "stderr",
     "output_type": "stream",
     "text": [
      "c:\\Users\\ruben\\AppData\\Local\\Continuum\\anaconda3\\lib\\site-packages\\pandas\\compat\\_optional.py:138: UserWarning: Pandas requires version '2.7.0' or newer of 'numexpr' (version '2.6.9' currently installed).\n",
      "  warnings.warn(msg, UserWarning)\n"
     ]
    }
   ],
   "source": [
    "import random as rnd\n",
    "import numpy as np # linear algebra\n",
    "import pandas as pd # data processing\n",
    "import matplotlib.pyplot as plt\n",
    "from sklearn.neural_network import MLPClassifier\n",
    "from sklearn.model_selection import GridSearchCV\n",
    "from sklearn.metrics import confusion_matrix, accuracy_score, classification_report\n",
    "from sklearn.neural_network import MLPClassifier\n"
   ]
  },
  {
   "cell_type": "code",
   "execution_count": 4,
   "metadata": {},
   "outputs": [
    {
     "name": "stdout",
     "output_type": "stream",
     "text": [
      "4\n",
      "4\n"
     ]
    }
   ],
   "source": [
    "f = 100 #factor_escala = 100\n",
    "n_samples = 1000\n",
    "\n",
    "a = np.array([1, 1, 1, 1,\n",
    "              1, 0, 0, 1,\n",
    "              1, 0, 0, 1,\n",
    "              1, 1, 1, 1])\n",
    "\n",
    "b = np.array([1, 0, 0, 1,\n",
    "              0, 1, 1, 0,\n",
    "              0, 1, 1, 0,\n",
    "              1, 0, 0, 1])\n",
    "\n",
    "c = np.array([1, 0, 1, 0,\n",
    "              0, 1, 0, 1,\n",
    "              1, 0, 1, 0,\n",
    "              0, 1, 0, 1])\n",
    "\n",
    "d = np.array([1, 0, 1, 0,\n",
    "              1, 0, 1, 0,\n",
    "              1, 0, 1, 0,\n",
    "              1, 0, 1, 0])\n",
    "\n",
    "x = np.concatenate([[a],  [b],       [c],       [d]])\n",
    "y = np.array([[1,0,0,0], [0,1,0,0], [0,0,1,0], [0,0,0,1]])\n",
    "\n",
    "print(len(x))\n",
    "print(len(y))"
   ]
  },
  {
   "cell_type": "code",
   "execution_count": 5,
   "metadata": {},
   "outputs": [
    {
     "name": "stdout",
     "output_type": "stream",
     "text": [
      "1000\n",
      "1000\n"
     ]
    }
   ],
   "source": [
    "# criar amostras que faltam para ter um dataset de tamanho a n_samples\n",
    "for i in range(n_samples - len(x)):\n",
    "        x = np.append(x, [[rnd.randint(0, 1) for i in range(16)]], axis=0)\n",
    "        y = np.append(y, [[0, 0, 0, 0]], axis=0)\n",
    "\n",
    "print(len(x))\n",
    "print(len(y))"
   ]
  },
  {
   "cell_type": "code",
   "execution_count": 6,
   "metadata": {},
   "outputs": [
    {
     "data": {
      "image/png": "[encoded data removed]",
      "text/plain": [
       "<Figure size 432x288 with 1 Axes>"
      ]
     },
     "metadata": {
      "needs_background": "light"
     },
     "output_type": "display_data"
    }
   ],
   "source": [
    "model = MLPClassifier(activation='relu',  #relu logistic tanh identity\n",
    "                     solver='sgd',\n",
    "                     max_iter=30000, \n",
    "                     hidden_layer_sizes=(32,4),\n",
    "                     learning_rate_init=0.5,\n",
    "                     shuffle=True,\n",
    "                     momentum=0.5,\n",
    "                     tol=0.000001,\n",
    "                     n_iter_no_change=500).fit(x, y)\n",
    "\n",
    "\n",
    "plt.xlabel(\"Iterations\")\n",
    "plt.ylabel(\"Loss\")\n",
    "plt.axhline(y=0.1, color='r', linestyle='-')\n",
    "plt.plot(model.loss_curve_)\n",
    "plt.show()"
   ]
  },
  {
   "cell_type": "code",
   "execution_count": 7,
   "metadata": {},
   "outputs": [
    {
     "name": "stdout",
     "output_type": "stream",
     "text": [
      "Fitting 5 folds for each of 48 candidates, totalling 240 fits\n",
      "\n",
      " The best estimator across ALL searched params:\n",
      " MLPClassifier(activation='logistic', hidden_layer_sizes=(32, 8),\n",
      "              learning_rate_init=0.5, max_iter=30000, momentum=0.7,\n",
      "              n_iter_no_change=500, solver='sgd', tol=1e-06)\n",
      "\n",
      " The best score across ALL searched params:\n",
      " 0.9960000000000001\n",
      "\n",
      " The best parameters across ALL searched params:\n",
      " {'activation': 'logistic', 'hidden_layer_sizes': (32, 8), 'learning_rate_init': 0.5, 'momentum': 0.7}\n"
     ]
    }
   ],
   "source": [
    "mlp = MLPClassifier(solver='sgd',\n",
    "                    max_iter=30000,\n",
    "                    shuffle=True,\n",
    "                    tol=0.000001,\n",
    "                    n_iter_no_change=500).fit(x, y)\n",
    "mlp_params = {\n",
    "    \"hidden_layer_sizes\":[(32, 8), (32, 16)],\n",
    "    'learning_rate_init': [0.5, 0.8, 1, 1.5], \n",
    "    \"activation\": [\"logistic\",\"relu\"],\n",
    "    \"momentum\": [0.3, 0.5, 0.7]\n",
    "}\n",
    "\n",
    "mlp_cv = GridSearchCV(mlp, mlp_params, verbose=1).fit(x, y)\n",
    "\n",
    "# optimum param\n",
    "print(\"\\n The best estimator across ALL searched params:\\n\",mlp_cv.best_estimator_)\n",
    "print(\"\\n The best score across ALL searched params:\\n\",mlp_cv.best_score_)\n",
    "print(\"\\n The best parameters across ALL searched params:\\n\",mlp_cv.best_params_)"
   ]
  },
  {
   "cell_type": "code",
   "execution_count": 8,
   "metadata": {},
   "outputs": [
    {
     "data": {
      "text/html": [
       "<div>\n",
       "<style scoped>\n",
       "    .dataframe tbody tr th:only-of-type {\n",
       "        vertical-align: middle;\n",
       "    }\n",
       "\n",
       "    .dataframe tbody tr th {\n",
       "        vertical-align: top;\n",
       "    }\n",
       "\n",
       "    .dataframe thead th {\n",
       "        text-align: right;\n",
       "    }\n",
       "</style>\n",
       "<table border=\"1\" class=\"dataframe\">\n",
       "  <thead>\n",
       "    <tr style=\"text-align: right;\">\n",
       "      <th></th>\n",
       "      <th>mean_fit_time</th>\n",
       "      <th>std_fit_time</th>\n",
       "      <th>mean_score_time</th>\n",
       "      <th>std_score_time</th>\n",
       "      <th>param_activation</th>\n",
       "      <th>param_hidden_layer_sizes</th>\n",
       "      <th>param_learning_rate_init</th>\n",
       "      <th>param_momentum</th>\n",
       "      <th>params</th>\n",
       "      <th>split0_test_score</th>\n",
       "      <th>split1_test_score</th>\n",
       "      <th>split2_test_score</th>\n",
       "      <th>split3_test_score</th>\n",
       "      <th>split4_test_score</th>\n",
       "      <th>mean_test_score</th>\n",
       "      <th>std_test_score</th>\n",
       "      <th>rank_test_score</th>\n",
       "    </tr>\n",
       "  </thead>\n",
       "  <tbody>\n",
       "    <tr>\n",
       "      <th>47</th>\n",
       "      <td>1.680460</td>\n",
       "      <td>0.386194</td>\n",
       "      <td>0.000000</td>\n",
       "      <td>0.000000</td>\n",
       "      <td>relu</td>\n",
       "      <td>(32, 16)</td>\n",
       "      <td>1.5</td>\n",
       "      <td>0.7</td>\n",
       "      <td>{'activation': 'relu', 'hidden_layer_sizes': (...</td>\n",
       "      <td>0.98</td>\n",
       "      <td>1.0</td>\n",
       "      <td>1.0</td>\n",
       "      <td>1.0</td>\n",
       "      <td>1.0</td>\n",
       "      <td>0.996</td>\n",
       "      <td>0.008</td>\n",
       "      <td>1</td>\n",
       "    </tr>\n",
       "    <tr>\n",
       "      <th>27</th>\n",
       "      <td>4.414221</td>\n",
       "      <td>3.091733</td>\n",
       "      <td>0.003125</td>\n",
       "      <td>0.006250</td>\n",
       "      <td>relu</td>\n",
       "      <td>(32, 8)</td>\n",
       "      <td>0.8</td>\n",
       "      <td>0.3</td>\n",
       "      <td>{'activation': 'relu', 'hidden_layer_sizes': (...</td>\n",
       "      <td>0.98</td>\n",
       "      <td>1.0</td>\n",
       "      <td>1.0</td>\n",
       "      <td>1.0</td>\n",
       "      <td>1.0</td>\n",
       "      <td>0.996</td>\n",
       "      <td>0.008</td>\n",
       "      <td>1</td>\n",
       "    </tr>\n",
       "    <tr>\n",
       "      <th>26</th>\n",
       "      <td>2.567588</td>\n",
       "      <td>0.850315</td>\n",
       "      <td>0.000000</td>\n",
       "      <td>0.000000</td>\n",
       "      <td>relu</td>\n",
       "      <td>(32, 8)</td>\n",
       "      <td>0.5</td>\n",
       "      <td>0.7</td>\n",
       "      <td>{'activation': 'relu', 'hidden_layer_sizes': (...</td>\n",
       "      <td>0.98</td>\n",
       "      <td>1.0</td>\n",
       "      <td>1.0</td>\n",
       "      <td>1.0</td>\n",
       "      <td>1.0</td>\n",
       "      <td>0.996</td>\n",
       "      <td>0.008</td>\n",
       "      <td>1</td>\n",
       "    </tr>\n",
       "    <tr>\n",
       "      <th>25</th>\n",
       "      <td>3.294526</td>\n",
       "      <td>1.250793</td>\n",
       "      <td>0.000200</td>\n",
       "      <td>0.000401</td>\n",
       "      <td>relu</td>\n",
       "      <td>(32, 8)</td>\n",
       "      <td>0.5</td>\n",
       "      <td>0.5</td>\n",
       "      <td>{'activation': 'relu', 'hidden_layer_sizes': (...</td>\n",
       "      <td>0.98</td>\n",
       "      <td>1.0</td>\n",
       "      <td>1.0</td>\n",
       "      <td>1.0</td>\n",
       "      <td>1.0</td>\n",
       "      <td>0.996</td>\n",
       "      <td>0.008</td>\n",
       "      <td>1</td>\n",
       "    </tr>\n",
       "  </tbody>\n",
       "</table>\n",
       "</div>"
      ],
      "text/plain": [
       "    mean_fit_time  std_fit_time  mean_score_time  std_score_time  \\\n",
       "47       1.680460      0.386194         0.000000        0.000000   \n",
       "27       4.414221      3.091733         0.003125        0.006250   \n",
       "26       2.567588      0.850315         0.000000        0.000000   \n",
       "25       3.294526      1.250793         0.000200        0.000401   \n",
       "\n",
       "   param_activation param_hidden_layer_sizes param_learning_rate_init  \\\n",
       "47             relu                 (32, 16)                      1.5   \n",
       "27             relu                  (32, 8)                      0.8   \n",
       "26             relu                  (32, 8)                      0.5   \n",
       "25             relu                  (32, 8)                      0.5   \n",
       "\n",
       "   param_momentum                                             params  \\\n",
       "47            0.7  {'activation': 'relu', 'hidden_layer_sizes': (...   \n",
       "27            0.3  {'activation': 'relu', 'hidden_layer_sizes': (...   \n",
       "26            0.7  {'activation': 'relu', 'hidden_layer_sizes': (...   \n",
       "25            0.5  {'activation': 'relu', 'hidden_layer_sizes': (...   \n",
       "\n",
       "    split0_test_score  split1_test_score  split2_test_score  \\\n",
       "47               0.98                1.0                1.0   \n",
       "27               0.98                1.0                1.0   \n",
       "26               0.98                1.0                1.0   \n",
       "25               0.98                1.0                1.0   \n",
       "\n",
       "    split3_test_score  split4_test_score  mean_test_score  std_test_score  \\\n",
       "47                1.0                1.0            0.996           0.008   \n",
       "27                1.0                1.0            0.996           0.008   \n",
       "26                1.0                1.0            0.996           0.008   \n",
       "25                1.0                1.0            0.996           0.008   \n",
       "\n",
       "    rank_test_score  \n",
       "47                1  \n",
       "27                1  \n",
       "26                1  \n",
       "25                1  "
      ]
     },
     "execution_count": 8,
     "metadata": {},
     "output_type": "execute_result"
    }
   ],
   "source": [
    "pd.DataFrame(mlp_cv.cv_results_).sort_values(by='rank_test_score').head(4)"
   ]
  },
  {
   "cell_type": "code",
   "execution_count": 28,
   "metadata": {},
   "outputs": [
    {
     "name": "stdout",
     "output_type": "stream",
     "text": [
      "Score: 100.0\n",
      "Prever o padrao A: [[1 0 0 0]] True\n",
      "Prever o padrao B: [[0 1 0 0]] True\n",
      "Prever o padrao C: [[0 0 1 0]] True\n",
      "Prever o padrao D: [[0 0 0 1]] True\n",
      "Prever o padrao Aleatorio: [[0 0 0 0]] True\n"
     ]
    }
   ],
   "source": [
    "# Model tuning\n",
    "model = MLPClassifier(activation='relu',  #relu logistic tanh identity\n",
    "                         solver='sgd',\n",
    "                         max_iter=30000, \n",
    "                         hidden_layer_sizes=(32,8),\n",
    "                         learning_rate_init=0.5,\n",
    "                         shuffle=True,\n",
    "                         momentum=0.5,\n",
    "                         tol=0.000001,\n",
    "                         n_iter_no_change=500).fit(x, y)\n",
    "\n",
    "# Score\n",
    "print(\"Score:\", model.score(x, y)*100)\n",
    "print(\"Prever o padrao A:\", model.predict([x[0]]), np.array_equal(model.predict([x[0]]), np.array([[1, 0, 0, 0]])))\n",
    "print(\"Prever o padrao B:\", model.predict([x[1]]), np.array_equal(model.predict([x[1]]), np.array([[0, 1, 0, 0]])))\n",
    "print(\"Prever o padrao C:\", model.predict([x[2]]), np.array_equal(model.predict([x[2]]), np.array([[0, 0, 1, 0]])))\n",
    "print(\"Prever o padrao D:\", model.predict([x[3]]), np.array_equal(model.predict([x[3]]), np.array([[0, 0, 0, 1]])))\n",
    "r = [[rnd.randint(0, 1) for i in range(16)]]\n",
    "print(\"Prever o padrao Aleatorio:\", model.predict(r), np.array_equal(model.predict(r), np.array([[0, 0, 0, 0]])))\n"
   ]
  },
  {
   "cell_type": "code",
   "execution_count": 29,
   "metadata": {},
   "outputs": [
    {
     "data": {
      "image/png": "[encoded data removed]",
      "text/plain": [
       "<Figure size 432x288 with 1 Axes>"
      ]
     },
     "metadata": {
      "needs_background": "light"
     },
     "output_type": "display_data"
    }
   ],
   "source": [
    "plt.xlabel(\"Iterations\")\n",
    "plt.ylabel(\"Loss\")\n",
    "plt.axhline(y=0.1, color='r', linestyle='-')\n",
    "plt.xlim(-0.5, 600)\n",
    "plt.ylim(0, 0.12)\n",
    "plt.plot(model.loss_curve_)\n",
    "plt.show()"
   ]
  },
  {
   "cell_type": "code",
   "execution_count": 15,
   "metadata": {},
   "outputs": [
    {
     "data": {
      "text/plain": [
       "9.966704369772131e-05"
      ]
     },
     "execution_count": 15,
     "metadata": {},
     "output_type": "execute_result"
    }
   ],
   "source": [
    "# taxa de erro obtida\n",
    "model.loss_curve_[-1]"
   ]
  },
  {
   "cell_type": "code",
   "execution_count": null,
   "metadata": {},
   "outputs": [],
   "source": []
  },
  {
   "cell_type": "code",
   "execution_count": null,
   "metadata": {},
   "outputs": [],
   "source": []
  },
  {
   "cell_type": "code",
   "execution_count": null,
   "metadata": {},
   "outputs": [],
   "source": []
  },
  {
   "cell_type": "code",
   "execution_count": null,
   "metadata": {},
   "outputs": [],
   "source": []
  },
  {
   "cell_type": "code",
   "execution_count": null,
   "metadata": {},
   "outputs": [],
   "source": []
  },
  {
   "cell_type": "code",
   "execution_count": null,
   "metadata": {},
   "outputs": [],
   "source": []
  },
  {
   "cell_type": "code",
   "execution_count": null,
   "metadata": {},
   "outputs": [],
   "source": []
  }
 ],
 "metadata": {
  "kernelspec": {
   "display_name": "base",
   "language": "python",
   "name": "python3"
  },
  "language_info": {
   "codemirror_mode": {
    "name": "ipython",
    "version": 3
   },
   "file_extension": ".py",
   "mimetype": "text/x-python",
   "name": "python",
   "nbconvert_exporter": "python",
   "pygments_lexer": "ipython3",
   "version": "3.7.1 (default, Oct 28 2018, 08:39:03) [MSC v.1912 64 bit (AMD64)]"
  },
  "vscode": {
   "interpreter": {
    "hash": "a3775215864532f70057a8c864396dfaf56bcd43b547a58f5f3ce65e494f79bc"
   }
  }
 },
 "nbformat": 4,
 "nbformat_minor": 2
}
