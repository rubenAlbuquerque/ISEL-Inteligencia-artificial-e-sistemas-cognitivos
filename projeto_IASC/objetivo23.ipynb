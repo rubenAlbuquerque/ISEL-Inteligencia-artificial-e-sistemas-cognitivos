{
 "cells": [
  {
   "cell_type": "markdown",
   "metadata": {},
   "source": [
    "# Objetivo 2.3\n",
    "## Caixeiro Viagante"
   ]
  },
  {
   "cell_type": "code",
   "execution_count": 2,
   "metadata": {},
   "outputs": [],
   "source": [
    "# Instalar a biblioteca q\n",
    "# !python -m pip install gurobipy\n",
    "import gurobipy as gp"
   ]
  },
  {
   "cell_type": "code",
   "execution_count": 1,
   "metadata": {},
   "outputs": [],
   "source": [
    "# Matriz de das distancias do caixeiro viajante\n",
    "matriz_distancias = [\n",
    "        [0, 400, 500, 300],\n",
    "        [400, 0, 300, 500],\n",
    "        [500, 300, 0, 400],\n",
    "        [300, 500, 400, 0]\n",
    "]"
   ]
  },
  {
   "cell_type": "code",
   "execution_count": 3,
   "metadata": {},
   "outputs": [],
   "source": [
    "# Índices dos pontos de origem e destino\n",
    "n_Cidades = len(matriz_distancias[0])\n",
    "origens = [i + 1 for i in range(n_Cidades)]  \n",
    "destinos = [i + 1 for i in range(n_Cidades)]\n",
    "\n",
    "# Dicionário das distancias\n",
    "dict_distancias = dict()\n",
    "for i, origem in enumerate(origens):\n",
    "    for j, destino in enumerate(destinos):\n",
    "        dict_distancias[origem, destino] = matriz_distancias[i][j]"
   ]
  },
  {
   "cell_type": "code",
   "execution_count": 4,
   "metadata": {},
   "outputs": [
    {
     "name": "stdout",
     "output_type": "stream",
     "text": [
      "Restricted license - for non-production use only - expires 2023-10-25\n",
      "Gurobi Optimizer version 9.5.0 build v9.5.0rc5 (win64)\n",
      "Thread count: 4 physical cores, 4 logical processors, using up to 4 threads\n",
      "Optimize a model with 14 rows, 19 columns and 42 nonzeros\n",
      "Model fingerprint: 0xeacb39a1\n",
      "Variable types: 0 continuous, 19 integer (16 binary)\n",
      "Coefficient statistics:\n",
      "  Matrix range     [1e+00, 4e+00]\n",
      "  Objective range  [3e+02, 5e+02]\n",
      "  Bounds range     [1e+00, 3e+00]\n",
      "  RHS range        [1e+00, 3e+00]\n",
      "Found heuristic solution: objective 1400.0000000\n",
      "Presolve removed 0 rows and 4 columns\n",
      "Presolve time: 0.01s\n",
      "Presolved: 14 rows, 15 columns, 42 nonzeros\n",
      "Variable types: 0 continuous, 15 integer (12 binary)\n",
      "\n",
      "Root relaxation: objective 1.300000e+03, 8 iterations, 0.01 seconds (0.00 work units)\n",
      "\n",
      "    Nodes    |    Current Node    |     Objective Bounds      |     Work\n",
      " Expl Unexpl |  Obj  Depth IntInf | Incumbent    BestBd   Gap | It/Node Time\n",
      "\n",
      "     0     0 infeasible    0      1400.00000 1400.00000  0.00%     -    0s\n",
      "\n",
      "Explored 1 nodes (8 simplex iterations) in 0.07 seconds (0.00 work units)\n",
      "Thread count was 4 (of 4 available processors)\n",
      "\n",
      "Solution count 1: 1400 \n",
      "\n",
      "Optimal solution found (tolerance 1.00e-04)\n",
      "Best objective 1.400000000000e+03, best bound 1.400000000000e+03, gap 0.0000%\n"
     ]
    }
   ],
   "source": [
    "# Modelo\n",
    "m = gp.Model()\n",
    "\n",
    "# Variáveis de decisão\n",
    "x = m.addVars(origens, destinos, vtype=gp.GRB.BINARY)\n",
    "\n",
    "#upper bond - limite superior\n",
    "u = m.addVars(origens[1:], vtype=gp.GRB.INTEGER, ub=n_Cidades - 1)\n",
    "\n",
    "# Função Objetivo\n",
    "m.setObjective(x.prod(dict_distancias), sense=gp.GRB.MINIMIZE)\n",
    "\n",
    "# Restrições que garantem que cada ponto será origem exatamente uma vez\n",
    "c1 = m.addConstrs(\n",
    "    gp.quicksum(x[i, j] for j in destinos if i != j) == 1\n",
    "    for i in origens)\n",
    "\n",
    "# Restrições que garantem que cada ponto será destino exatamente uma vez\n",
    "c2 = m.addConstrs(\n",
    "    gp.quicksum(x[i, j] for i in origens if i != j) == 1\n",
    "    for j in destinos)\n",
    "\n",
    "# Restrições de eliminação de subrotas\n",
    "c3 = m.addConstrs(\n",
    "    u[i] - u[j] + n_Cidades * x[i, j] <= n_Cidades - 1\n",
    "    for i in origens[1:] for j in destinos[1:] if i != j)\n",
    "\n",
    "# Executa o modelo\n",
    "m.optimize()"
   ]
  },
  {
   "cell_type": "code",
   "execution_count": 5,
   "metadata": {},
   "outputs": [
    {
     "name": "stdout",
     "output_type": "stream",
     "text": [
      "[1, 4, 3, 2, 1]\n"
     ]
    }
   ],
   "source": [
    "# Constrir o vetor com caminho optamizado\n",
    "caminho = [1]\n",
    "anterior = 1\n",
    "for ponto in range(n_Cidades):\n",
    "    for j in destinos:\n",
    "        if round(x[anterior, j].X) == 1:\n",
    "            caminho.append(j)\n",
    "            anterior = j\n",
    "            break\n",
    "            \n",
    "# caminho Optimizado comecando no ponto 1\n",
    "print(caminho)"
   ]
  },
  {
   "cell_type": "markdown",
   "metadata": {},
   "source": [
    "## N-Queens"
   ]
  },
  {
   "cell_type": "code",
   "execution_count": 12,
   "metadata": {},
   "outputs": [
    {
     "name": "stdout",
     "output_type": "stream",
     "text": [
      "For n = 10 there are 10 possible solutions\n"
     ]
    }
   ],
   "source": [
    "import random\n",
    "import gurobipy as gb\n",
    "import sys\n",
    "import matplotlib.pyplot as plt\n",
    "\n",
    "\n",
    "n = 10\n",
    "m = gb.Model()\n",
    "x = m.addVars(n, n, vtype=gb.GRB.BINARY, name=\"x\")\n",
    "\n",
    "# one Queen per row\n",
    "m.addConstrs((gb.quicksum(x[i, j] for j in range(n)) == 1 for i in range(n)))\n",
    "# one queen per column\n",
    "m.addConstrs((gb.quicksum(x[i, j] for i in range(n)) == 1 for j in range(n)))\n",
    "# no more than one queen per \"/\" diagonal\n",
    "m.addConstrs(gb.quicksum(x[i, j] for i in range(n) for j in range(n) if i - j == k) <= 1 for k in range(-n + 2, n - 2 + 1))\n",
    "# no more than one queen per \"\\\" diagonal\n",
    "m.addConstrs(gb.quicksum(x[i, j] for i in range(n) for j in range(n) if i + j == k) <= 1 for k in range(2 * n - 1))\n",
    "\n",
    "# Gurobi Settings\n",
    "m.params.LogToConsole = 0         # silenciar o Gurobi\n",
    "m.params.PoolSearchMode = 2       # forcar a procura de multiplas solucoes\n",
    "\n",
    "m.optimize()\n",
    "\n",
    "print(f\"For n = {n} there are {m.SolCount} possible solutions\")"
   ]
  },
  {
   "cell_type": "code",
   "execution_count": 13,
   "metadata": {},
   "outputs": [
    {
     "data": {
      "image/png": "[encoded data removed]",
      "text/plain": [
       "<Figure size 432x288 with 1 Axes>"
      ]
     },
     "metadata": {
      "needs_background": "light"
     },
     "output_type": "display_data"
    }
   ],
   "source": [
    "tabuleiro =[]\n",
    "lista = []\n",
    "for i in range(n):\n",
    "    for j in range(n):\n",
    "        lista.append(round(x[i, j].X))\n",
    "    tabuleiro.append(lista)\n",
    "    lista= []\n",
    "        \n",
    "plt.figure()\n",
    "plt.imshow(tabuleiro)\n",
    "plt.show()"
   ]
  },
  {
   "cell_type": "code",
   "execution_count": null,
   "metadata": {},
   "outputs": [],
   "source": []
  },
  {
   "cell_type": "code",
   "execution_count": null,
   "metadata": {},
   "outputs": [],
   "source": []
  },
  {
   "cell_type": "code",
   "execution_count": null,
   "metadata": {},
   "outputs": [],
   "source": []
  },
  {
   "cell_type": "code",
   "execution_count": null,
   "metadata": {},
   "outputs": [],
   "source": []
  },
  {
   "cell_type": "code",
   "execution_count": null,
   "metadata": {},
   "outputs": [],
   "source": []
  },
  {
   "cell_type": "code",
   "execution_count": null,
   "metadata": {},
   "outputs": [],
   "source": []
  },
  {
   "cell_type": "code",
   "execution_count": null,
   "metadata": {},
   "outputs": [],
   "source": []
  },
  {
   "cell_type": "code",
   "execution_count": null,
   "metadata": {},
   "outputs": [],
   "source": []
  },
  {
   "cell_type": "code",
   "execution_count": null,
   "metadata": {},
   "outputs": [],
   "source": []
  },
  {
   "cell_type": "code",
   "execution_count": null,
   "metadata": {},
   "outputs": [],
   "source": []
  },
  {
   "cell_type": "code",
   "execution_count": null,
   "metadata": {},
   "outputs": [],
   "source": []
  }
 ],
 "metadata": {
  "kernelspec": {
   "display_name": "Python 3",
   "language": "python",
   "name": "python3"
  },
  "language_info": {
   "codemirror_mode": {
    "name": "ipython",
    "version": 3
   },
   "file_extension": ".py",
   "mimetype": "text/x-python",
   "name": "python",
   "nbconvert_exporter": "python",
   "pygments_lexer": "ipython3",
   "version": "3.7.1"
  }
 },
 "nbformat": 4,
 "nbformat_minor": 2
}
