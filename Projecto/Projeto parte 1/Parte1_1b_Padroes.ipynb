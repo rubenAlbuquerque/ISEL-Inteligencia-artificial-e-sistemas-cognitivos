{
 "cells": [
  {
   "cell_type": "markdown",
   "metadata": {},
   "source": [
    "# Parte 1 Problema 1 b\n"
   ]
  },
  {
   "cell_type": "code",
   "execution_count": 8,
   "metadata": {},
   "outputs": [],
   "source": [
    "import random as rnd\n",
    "import numpy as np # linear algebra\n",
    "import pandas as pd # data processing\n",
    "import matplotlib.pyplot as plt\n",
    "from sklearn.neural_network import MLPClassifier\n",
    "from sklearn.model_selection import GridSearchCV\n",
    "from sklearn.metrics import confusion_matrix, accuracy_score, classification_report\n",
    "from sklearn.neural_network import MLPClassifier\n"
   ]
  },
  {
   "cell_type": "code",
   "execution_count": 9,
   "metadata": {},
   "outputs": [
    {
     "name": "stdout",
     "output_type": "stream",
     "text": [
      "400\n",
      "400\n"
     ]
    }
   ],
   "source": [
    "f = 100 #factor_escala = 100\n",
    "n_samples = 1000\n",
    "\n",
    "a = np.array([1, 1, 1, 1,\n",
    "              1, 0, 0, 1,\n",
    "              1, 0, 0, 1,\n",
    "              1, 1, 1, 1])\n",
    "\n",
    "b = np.array([1, 0, 0, 1,\n",
    "              0, 1, 1, 0,\n",
    "              0, 1, 1, 0,\n",
    "              1, 0, 0, 1])\n",
    "\n",
    "c = np.array([1, 0, 1, 0,\n",
    "              0, 1, 0, 1,\n",
    "              1, 0, 1, 0,\n",
    "              0, 1, 0, 1])\n",
    "\n",
    "d = np.array([1, 0, 1, 0,\n",
    "              1, 0, 1, 0,\n",
    "              1, 0, 1, 0,\n",
    "              1, 0, 1, 0])\n",
    "\n",
    "x = np.concatenate([[a],  [b],       [c],       [d]]*f)\n",
    "y = np.array([[1,0,0,0], [0,1,0,0], [0,0,1,0], [0,0,0,1]]*f)\n",
    "\n",
    "print(len(x))\n",
    "print(len(y))"
   ]
  },
  {
   "cell_type": "code",
   "execution_count": 10,
   "metadata": {},
   "outputs": [
    {
     "name": "stdout",
     "output_type": "stream",
     "text": [
      "1000\n",
      "1000\n"
     ]
    }
   ],
   "source": [
    "# criar amostras que faltam para ter um dataset de tamanho a n_samples\n",
    "for i in range(n_samples - len(x)):\n",
    "        x = np.append(x, [[rnd.randint(0, 1) for i in range(16)]], axis=0)\n",
    "        y = np.append(y, [[0, 0, 0, 0]], axis=0)\n",
    "        \n",
    "        \n",
    "        \n",
    "print(len(x))\n",
    "print(len(y))"
   ]
  },
  {
   "cell_type": "code",
   "execution_count": 11,
   "metadata": {},
   "outputs": [
    {
     "data": {
      "image/png": "[encoded data removed]",
      "text/plain": [
       "<Figure size 432x288 with 1 Axes>"
      ]
     },
     "metadata": {
      "needs_background": "light"
     },
     "output_type": "display_data"
    }
   ],
   "source": [
    "model = MLPClassifier(activation='relu',  #relu logistic tanh identity\n",
    "                     solver='sgd',\n",
    "                     max_iter=30000, \n",
    "                     hidden_layer_sizes=(32,4),\n",
    "                     learning_rate_init=0.5,\n",
    "                     shuffle=True,\n",
    "                     momentum=0.5,\n",
    "                     tol=0.000001,\n",
    "                     n_iter_no_change=500).fit(x, y)\n",
    "\n",
    "\n",
    "plt.xlabel(\"Iterations\")\n",
    "plt.ylabel(\"Loss\")\n",
    "plt.axhline(y=0.1, color='r', linestyle='-')\n",
    "plt.plot(model.loss_curve_)\n",
    "plt.show()"
   ]
  },
  {
   "cell_type": "code",
   "execution_count": null,
   "metadata": {},
   "outputs": [],
   "source": [
    "mlp = MLPClassifier(solver='sgd',\n",
    "                    max_iter=30000,\n",
    "                    shuffle=True,\n",
    "                    tol=0.000001,\n",
    "                    n_iter_no_change=500).fit(x, y)\n",
    "mlp_params = {\n",
    "    \"hidden_layer_sizes\":[(32, 8), (32, 16)],\n",
    "    'learning_rate_init': [0.5, 0.8, 1, 1.5], \n",
    "    \"activation\": [\"logistic\",\"relu\"],\n",
    "    \"momentum\": [0.3, 0.5, 0.7]\n",
    "}\n",
    "\n",
    "mlp_cv = GridSearchCV(mlp, mlp_params, verbose=1).fit(x, y)\n",
    "\n",
    "# optimum param\n",
    "print(\"\\n The best estimator across ALL searched params:\\n\",mlp_cv.best_estimator_)\n",
    "print(\"\\n The best score across ALL searched params:\\n\",mlp_cv.best_score_)\n",
    "print(\"\\n The best parameters across ALL searched params:\\n\",mlp_cv.best_params_)"
   ]
  },
  {
   "cell_type": "code",
   "execution_count": 1,
   "metadata": {},
   "outputs": [
    {
     "ename": "NameError",
     "evalue": "name 'mlp_cv' is not defined",
     "output_type": "error",
     "traceback": [
      "\u001b[1;31m---------------------------------------------------------------------------\u001b[0m",
      "\u001b[1;31mNameError\u001b[0m                                 Traceback (most recent call last)",
      "\u001b[1;32m<ipython-input-1-d94664e5403f>\u001b[0m in \u001b[0;36m<module>\u001b[1;34m\u001b[0m\n\u001b[1;32m----> 1\u001b[1;33m \u001b[0mranking\u001b[0m \u001b[1;33m=\u001b[0m \u001b[0mmlp_cv\u001b[0m\u001b[1;33m.\u001b[0m\u001b[0mcv_results_\u001b[0m\u001b[1;33m[\u001b[0m\u001b[1;34m'rank_test_score'\u001b[0m\u001b[1;33m]\u001b[0m\u001b[1;33m\u001b[0m\u001b[1;33m\u001b[0m\u001b[0m\n\u001b[0m\u001b[0;32m      2\u001b[0m \u001b[1;33m\u001b[0m\u001b[0m\n\u001b[0;32m      3\u001b[0m \u001b[0mdf\u001b[0m \u001b[1;33m=\u001b[0m \u001b[0mpd\u001b[0m\u001b[1;33m.\u001b[0m\u001b[0mDataFrame\u001b[0m\u001b[1;33m(\u001b[0m\u001b[0mlist\u001b[0m\u001b[1;33m(\u001b[0m\u001b[0mmlp_cv\u001b[0m\u001b[1;33m.\u001b[0m\u001b[0mcv_results_\u001b[0m\u001b[1;33m[\u001b[0m\u001b[1;34m'params'\u001b[0m\u001b[1;33m]\u001b[0m\u001b[1;33m)\u001b[0m\u001b[1;33m)\u001b[0m\u001b[1;33m\u001b[0m\u001b[1;33m\u001b[0m\u001b[0m\n\u001b[0;32m      4\u001b[0m \u001b[0mdf\u001b[0m\u001b[1;33m[\u001b[0m\u001b[1;34m'Ranking'\u001b[0m\u001b[1;33m]\u001b[0m \u001b[1;33m=\u001b[0m \u001b[0mranking\u001b[0m\u001b[1;33m\u001b[0m\u001b[1;33m\u001b[0m\u001b[0m\n\u001b[0;32m      5\u001b[0m \u001b[1;31m# The sorting is done based on the F values of the models.\u001b[0m\u001b[1;33m\u001b[0m\u001b[1;33m\u001b[0m\u001b[1;33m\u001b[0m\u001b[0m\n",
      "\u001b[1;31mNameError\u001b[0m: name 'mlp_cv' is not defined"
     ]
    }
   ],
   "source": [
    "ranking = mlp_cv.cv_results_['rank_test_score']\n",
    "\n",
    "df = pd.DataFrame(list(mlp_cv.cv_results_['params']))\n",
    "df['Ranking'] = ranking\n",
    "# The sorting is done based on the F values of the models.\n",
    "sorting = np.argsort(mlp_cv.cv_results_['rank_test_score'])\n",
    "\n",
    "# Sort the lines based on the ranking of the models\n",
    "df_final = df.iloc[sorting]\n",
    "df_final.head(5)"
   ]
  },
  {
   "cell_type": "code",
   "execution_count": null,
   "metadata": {},
   "outputs": [],
   "source": [
    "# Model tuning\n",
    "model = MLPClassifier(activation='relu',  #relu logistic tanh identity\n",
    "                         solver='sgd',\n",
    "                         max_iter=30000, \n",
    "                         hidden_layer_sizes=(32,8),\n",
    "                         learning_rate_init=0.5,\n",
    "                         shuffle=True,\n",
    "                         momentum=0.5,\n",
    "                         tol=0.000001,\n",
    "                         n_iter_no_change=500).fit(x, y)\n",
    "\n",
    "# Score\n",
    "print(\"Score:\", model.score(x, y)*100)\n",
    "print(\"Prever o padrao A:\", model.predict([x[0]]), np.array_equal(model.predict([x[0]]), np.array([[1, 0, 0, 0]])))\n",
    "print(\"Prever o padrao B:\", model.predict([x[1]]), np.array_equal(model.predict([x[1]]), np.array([[0, 1, 0, 0]])))\n",
    "print(\"Prever o padrao C:\", model.predict([x[2]]), np.array_equal(model.predict([x[2]]), np.array([[0, 0, 1, 0]])))\n",
    "print(\"Prever o padrao D:\", model.predict([x[3]]), np.array_equal(model.predict([x[3]]), np.array([[0, 0, 0, 1]])))"
   ]
  },
  {
   "cell_type": "code",
   "execution_count": null,
   "metadata": {},
   "outputs": [],
   "source": []
  },
  {
   "cell_type": "code",
   "execution_count": 6,
   "metadata": {},
   "outputs": [
    {
     "name": "stdout",
     "output_type": "stream",
     "text": [
      "1.0\n",
      "Prever o padrao A: [[1 0 0 0]] True\n",
      "Prever o padrao B: [[0 1 0 0]] True\n",
      "Prever o padrao C: [[0 0 1 0]] True\n",
      "Prever o padrao D: [[0 0 0 1]] True\n",
      "\n",
      "\n",
      "\n",
      "1.0\n",
      "Prever o padrao A: [[1 0 0 0]] True\n",
      "Prever o padrao B: [[0 1 0 0]] True\n",
      "Prever o padrao C: [[0 0 1 0]] True\n",
      "Prever o padrao D: [[0 0 0 1]] True\n",
      "\n",
      "\n",
      "\n",
      "1.0\n",
      "Prever o padrao A: [[1 0 0 0]] True\n",
      "Prever o padrao B: [[0 1 0 0]] True\n",
      "Prever o padrao C: [[0 0 1 0]] True\n",
      "Prever o padrao D: [[0 0 0 1]] True\n",
      "\n",
      "\n",
      "\n",
      "1.0\n",
      "Prever o padrao A: [[1 0 0 0]] True\n",
      "Prever o padrao B: [[0 1 0 0]] True\n",
      "Prever o padrao C: [[0 0 1 0]] True\n",
      "Prever o padrao D: [[0 0 0 1]] True\n",
      "\n",
      "\n",
      "\n",
      "1.0\n",
      "Prever o padrao A: [[1 0 0 0]] True\n",
      "Prever o padrao B: [[0 1 0 0]] True\n",
      "Prever o padrao C: [[0 0 1 0]] True\n",
      "Prever o padrao D: [[0 0 0 1]] True\n",
      "\n",
      "\n",
      "\n",
      "1.0\n",
      "Prever o padrao A: [[1 0 0 0]] True\n",
      "Prever o padrao B: [[0 1 0 0]] True\n",
      "Prever o padrao C: [[0 0 1 0]] True\n",
      "Prever o padrao D: [[0 0 0 1]] True\n",
      "\n",
      "\n",
      "\n",
      "1.0\n",
      "Prever o padrao A: [[1 0 0 0]] True\n",
      "Prever o padrao B: [[0 1 0 0]] True\n",
      "Prever o padrao C: [[0 0 1 0]] True\n",
      "Prever o padrao D: [[0 0 0 1]] True\n",
      "\n",
      "\n",
      "\n",
      "1.0\n",
      "Prever o padrao A: [[1 0 0 0]] True\n",
      "Prever o padrao B: [[0 1 0 0]] True\n",
      "Prever o padrao C: [[0 0 1 0]] True\n",
      "Prever o padrao D: [[0 0 0 1]] True\n",
      "\n",
      "\n",
      "\n",
      "1.0\n",
      "Prever o padrao A: [[1 0 0 0]] True\n",
      "Prever o padrao B: [[0 1 0 0]] True\n",
      "Prever o padrao C: [[0 0 1 0]] True\n",
      "Prever o padrao D: [[0 0 0 1]] True\n",
      "\n",
      "\n",
      "\n",
      "1.0\n",
      "Prever o padrao A: [[1 0 0 0]] True\n",
      "Prever o padrao B: [[0 1 0 0]] True\n",
      "Prever o padrao C: [[0 0 1 0]] True\n",
      "Prever o padrao D: [[0 0 0 1]] True\n",
      "\n",
      "\n",
      "\n"
     ]
    }
   ],
   "source": [
    "#model tuning\n",
    "for i in range(10):\n",
    "    model = MLPClassifier(activation='relu',  #relu logistic tanh identity\n",
    "                         solver='sgd',\n",
    "                         max_iter=30000, \n",
    "                         hidden_layer_sizes=(32,8),\n",
    "                         learning_rate_init=0.5,\n",
    "                         shuffle=True,\n",
    "                         momentum=0.5,\n",
    "                         tol=0.000001,\n",
    "                         n_iter_no_change=500).fit(x, y)\n",
    "    # Score\n",
    "    print(\"Score:\", model.score(x, y)*100)\n",
    "    print(\"Prever o padrao A:\", model.predict([x[0]]), np.array_equal(model.predict([x[0]]), np.array([[1, 0, 0, 0]])))\n",
    "    print(\"Prever o padrao B:\", model.predict([x[1]]), np.array_equal(model.predict([x[1]]), np.array([[0, 1, 0, 0]])))\n",
    "    print(\"Prever o padrao C:\", model.predict([x[2]]), np.array_equal(model.predict([x[2]]), np.array([[0, 0, 1, 0]])))\n",
    "    print(\"Prever o padrao D:\", model.predict([x[3]]), np.array_equal(model.predict([x[3]]), np.array([[0, 0, 0, 1]])))\n",
    "    "
   ]
  },
  {
   "cell_type": "code",
   "execution_count": null,
   "metadata": {},
   "outputs": [],
   "source": [
    "model = MLPClassifier(hidden_layer_sizes=(32,4),\n",
    "                      learning_rate_init=0.1,\n",
    "                      max_iter=1000,\n",
    "                      activation='logistic',\n",
    "                      solver='sgd').fit(x,y)\n",
    "\n",
    "\n",
    "print(\"Prever o padrao A:\", model.predict([x[0]]), np.array_equal(model.predict([x[0]]), np.array([[1, 0, 0, 0]])))\n",
    "print(\"Prever o padrao B:\", model.predict([x[1]]), np.array_equal(model.predict([x[1]]), np.array([[0, 1, 0, 0]])))\n",
    "print(\"Prever o padrao C:\", model.predict([x[2]]), np.array_equal(model.predict([x[2]]), np.array([[0, 0, 1, 0]])))\n",
    "print(\"Prever o padrao D:\", model.predict([x[3]]), np.array_equal(model.predict([x[3]]), np.array([[0, 0, 0, 1]])))\n",
    "\n",
    "# Score\n",
    "print(\"Score:\", model.score(x, y)*100)"
   ]
  },
  {
   "cell_type": "code",
   "execution_count": null,
   "metadata": {},
   "outputs": [],
   "source": []
  },
  {
   "cell_type": "code",
   "execution_count": null,
   "metadata": {},
   "outputs": [],
   "source": []
  },
  {
   "cell_type": "code",
   "execution_count": null,
   "metadata": {},
   "outputs": [],
   "source": []
  },
  {
   "cell_type": "code",
   "execution_count": null,
   "metadata": {},
   "outputs": [],
   "source": []
  },
  {
   "cell_type": "code",
   "execution_count": null,
   "metadata": {},
   "outputs": [],
   "source": []
  },
  {
   "cell_type": "code",
   "execution_count": null,
   "metadata": {},
   "outputs": [],
   "source": []
  },
  {
   "cell_type": "code",
   "execution_count": null,
   "metadata": {},
   "outputs": [],
   "source": []
  },
  {
   "cell_type": "code",
   "execution_count": null,
   "metadata": {},
   "outputs": [],
   "source": []
  },
  {
   "cell_type": "code",
   "execution_count": null,
   "metadata": {},
   "outputs": [],
   "source": []
  }
 ],
 "metadata": {
  "kernelspec": {
   "display_name": "Python 3",
   "language": "python",
   "name": "python3"
  },
  "language_info": {
   "codemirror_mode": {
    "name": "ipython",
    "version": 3
   },
   "file_extension": ".py",
   "mimetype": "text/x-python",
   "name": "python",
   "nbconvert_exporter": "python",
   "pygments_lexer": "ipython3",
   "version": "3.7.1"
  }
 },
 "nbformat": 4,
 "nbformat_minor": 2
}
